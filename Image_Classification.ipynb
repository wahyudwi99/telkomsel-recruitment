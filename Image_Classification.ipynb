{
  "nbformat": 4,
  "nbformat_minor": 0,
  "metadata": {
    "colab": {
      "provenance": [],
      "gpuType": "T4"
    },
    "kernelspec": {
      "name": "python3",
      "display_name": "Python 3"
    },
    "language_info": {
      "name": "python"
    },
    "accelerator": "GPU"
  },
  "cells": [
    {
      "cell_type": "markdown",
      "source": [
        "# **Image Classification**"
      ],
      "metadata": {
        "id": "frQVW9AMuH6Y"
      }
    },
    {
      "cell_type": "markdown",
      "source": [
        "In this project, I conducted experiment to built classification model which is able to predict the 4 different image classes. Basically, the experiment process is separated into 2 steps, **image pre processing** and **model building**"
      ],
      "metadata": {
        "id": "heNxaCSquKbe"
      }
    },
    {
      "cell_type": "markdown",
      "source": [
        "## **1. Image preprocessing**"
      ],
      "metadata": {
        "id": "uWbrPRIbubGe"
      }
    },
    {
      "cell_type": "markdown",
      "source": [
        "In this step, I read the image from image folders. Then, I construct it into tensor which is served as image data and image label."
      ],
      "metadata": {
        "id": "feu3KBltuehG"
      }
    },
    {
      "cell_type": "code",
      "source": [
        "from google.colab import drive\n",
        "drive.mount('/content/drive')"
      ],
      "metadata": {
        "colab": {
          "base_uri": "https://localhost:8080/"
        },
        "id": "YiNtXJF3e4yd",
        "outputId": "e08b7e15-6ac6-4e14-c65f-6b42109f94a8"
      },
      "execution_count": 2,
      "outputs": [
        {
          "output_type": "stream",
          "name": "stdout",
          "text": [
            "Drive already mounted at /content/drive; to attempt to forcibly remount, call drive.mount(\"/content/drive\", force_remount=True).\n"
          ]
        }
      ]
    },
    {
      "cell_type": "code",
      "source": [
        "# Import packages\n",
        "import pandas as pd\n",
        "import numpy as np\n",
        "import matplotlib.pyplot as plt\n",
        "import torch\n",
        "import os\n",
        "import cv2\n",
        "import torch.nn as nn\n",
        "from torchvision import transforms\n",
        "from torch.utils.data import DataLoader, TensorDataset\n",
        "from sklearn.model_selection import train_test_split\n",
        "from sklearn.metrics import classification_report, roc_auc_score, precision_score, recall_score\n",
        "from PIL import Image\n",
        "from tqdm import tqdm"
      ],
      "metadata": {
        "id": "QfjCtAxTZPYA"
      },
      "execution_count": 3,
      "outputs": []
    },
    {
      "cell_type": "markdown",
      "source": [
        "**a. Read, resize, and scale the image**"
      ],
      "metadata": {
        "id": "PcQ-iLjqutWa"
      }
    },
    {
      "cell_type": "markdown",
      "source": [
        "In this process, I have performed 3 steps, getting image, resizing, and scaling. I just used 500 images for each label because after trying to get all 8000+ images, I got the disconnected runtime due to the limitation of CPU RAM."
      ],
      "metadata": {
        "id": "9VhTQBNGu0zz"
      }
    },
    {
      "cell_type": "code",
      "source": [
        "# Read dataset\n",
        "result = {}\n",
        "for label in os.listdir(\"/content/drive/MyDrive/Study/Computer_Science/Project/Telkomsel_Recruitment/Image-Classification/image-classification/images/images\"):\n",
        "  label_path = f\"/content/drive/MyDrive/Study/Computer_Science/Project/Telkomsel_Recruitment/Image-Classification/image-classification/images/images/{label}\"\n",
        "  for file in tqdm(os.listdir(label_path)):\n",
        "    if (\n",
        "        file.endswith(\".png\")\n",
        "        or file.endswith(\".jpg\")\n",
        "        or file.endswith(\".jpeg\")\n",
        "    ):\n",
        "      image_path = f\"{label_path}/{file}\"\n",
        "      img = Image.open(image_path).convert(\"RGB\")\n",
        "      # Load image as array and scale it it\n",
        "      transform = transforms.Compose([\n",
        "          transforms.Resize((224, 224)),\n",
        "          transforms.ToTensor()\n",
        "      ])\n",
        "      img_resized = transform(img)\n",
        "      img_scaled = img_resized/255\n",
        "      if label not in result.keys():\n",
        "        result[label] = []\n",
        "      result[label].append(img_scaled)\n",
        "      if len(result[label]) == 500:\n",
        "        break"
      ],
      "metadata": {
        "colab": {
          "base_uri": "https://localhost:8080/"
        },
        "id": "r_TrgHI6Zl1j",
        "outputId": "aa8d67c2-393a-4a7c-98ee-661de27df873"
      },
      "execution_count": null,
      "outputs": [
        {
          "output_type": "stream",
          "name": "stderr",
          "text": [
            "  6%|▌         | 499/8763 [02:45<45:48,  3.01it/s] \n",
            "  6%|▌         | 499/8750 [02:30<41:31,  3.31it/s]\n",
            "  2%|▏         | 148/8782 [02:11<1:19:14,  1.82it/s]/usr/local/lib/python3.11/dist-packages/PIL/Image.py:1045: UserWarning: Palette images with Transparency expressed in bytes should be converted to RGBA images\n",
            "  warnings.warn(\n",
            "  6%|▌         | 504/8782 [02:23<39:22,  3.50it/s]\n",
            "  6%|▌         | 499/8800 [02:56<48:48,  2.83it/s] \n"
          ]
        }
      ]
    },
    {
      "cell_type": "code",
      "source": [
        "# Save the dataset for further process\n",
        "torch.save(result,\"/content/drive/MyDrive/Study/Computer_Science/Project/Telkomsel_Recruitment/Image-Classification/image-classification/dataset.pt\")"
      ],
      "metadata": {
        "id": "ji5dskI5qr5t"
      },
      "execution_count": null,
      "outputs": []
    },
    {
      "cell_type": "markdown",
      "source": [
        "**b. Constructing image dataset with appropriate labels**"
      ],
      "metadata": {
        "id": "CIYdOC2zvR7E"
      }
    },
    {
      "cell_type": "markdown",
      "source": [
        "In this process, I just simply concatenated each of label data and the label itself into 2 different arrays, the first array is for the image data and the second array is for label data"
      ],
      "metadata": {
        "id": "VMc1FoF8vWlw"
      }
    },
    {
      "cell_type": "code",
      "source": [
        "# Reload the dataset\n",
        "dataset = loaded_dict = torch.load(\"/content/drive/MyDrive/Study/Computer_Science/Project/Telkomsel_Recruitment/Image-Classification/image-classification/dataset.pt\")"
      ],
      "metadata": {
        "id": "oh2usmYxeNMx"
      },
      "execution_count": null,
      "outputs": []
    },
    {
      "cell_type": "code",
      "source": [
        "# Construct label\n",
        "# architecure = 0\n",
        "# art and culture = 1\n",
        "# food and drinks = 2\n",
        "# travel and adventure = 3\n",
        "\n",
        "label_data = np.concatenate([\n",
        "    np.repeat(0, 500),\n",
        "    np.repeat(1, 500),\n",
        "    np.repeat(2, 500),\n",
        "    np.repeat(3, 500)\n",
        "])\n",
        "\n",
        "# Construct image data\n",
        "list_data = []\n",
        "for label_name in dataset.keys():\n",
        "  list_data += dataset[label_name]\n",
        "all_data = np.array(list_data)\n",
        "\n",
        "print(f\"all_data = {all_data.shape}\")\n",
        "print(f\"Label = {label_data.shape}\")"
      ],
      "metadata": {
        "colab": {
          "base_uri": "https://localhost:8080/"
        },
        "id": "-BnJchzrjdbb",
        "outputId": "4955b63f-5fb2-428f-9492-8838b02b5f2a"
      },
      "execution_count": null,
      "outputs": [
        {
          "output_type": "stream",
          "name": "stdout",
          "text": [
            "all_data = (2000, 3, 224, 224)\n",
            "Label = (2000,)\n"
          ]
        }
      ]
    },
    {
      "cell_type": "markdown",
      "source": [
        "After aforementioned process done, we can see the total data is 2000, which is equal to the four times of 500 images."
      ],
      "metadata": {
        "id": "4H4FkfkovnQb"
      }
    },
    {
      "cell_type": "markdown",
      "source": [
        "**c. Splitting train and test dataset, also converting into tensor**"
      ],
      "metadata": {
        "id": "RuFBWTO-vzvH"
      }
    },
    {
      "cell_type": "markdown",
      "source": [
        "In this process, I splitted the image data into train and test set. I chose the test size of 0.2 because the total image is 2000, which is actually small, so I think using 20% of total data as test set will be wise."
      ],
      "metadata": {
        "id": "wVGlKkuYv4Ij"
      }
    },
    {
      "cell_type": "code",
      "source": [
        "# Train test split\n",
        "x_train, x_test, y_train, y_test = train_test_split(all_data, label_data, test_size=0.2)"
      ],
      "metadata": {
        "id": "7QdZ_tZRFrf-"
      },
      "execution_count": null,
      "outputs": []
    },
    {
      "cell_type": "code",
      "source": [
        "# Convert data into tensor\n",
        "x_train_tensor = torch.from_numpy(x_train).to(torch.float)\n",
        "x_test_tensor = torch.from_numpy(x_test).to(torch.float)\n",
        "y_train_tensor = torch.from_numpy(y_train)\n",
        "y_test_tensor = torch.from_numpy(y_test)\n",
        "print(f\"x_train = {x_train_tensor.size()}\")\n",
        "print(f\"x_test = {x_test_tensor.size()}\")\n",
        "print(f\"y_train = {y_train_tensor.size()}\")\n",
        "print(f\"y_test = {y_test_tensor.size()}\")"
      ],
      "metadata": {
        "colab": {
          "base_uri": "https://localhost:8080/"
        },
        "id": "EQrCSsMgbbA2",
        "outputId": "fcf41e3c-b4c2-45fd-c62d-28a77c5b98b8"
      },
      "execution_count": null,
      "outputs": [
        {
          "output_type": "stream",
          "name": "stdout",
          "text": [
            "x_train = torch.Size([1600, 3, 224, 224])\n",
            "x_test = torch.Size([400, 3, 224, 224])\n",
            "y_train = torch.Size([1600])\n",
            "y_test = torch.Size([400])\n"
          ]
        }
      ]
    },
    {
      "cell_type": "code",
      "source": [
        "# Create batch data with dataloader\n",
        "train_loader = DataLoader(TensorDataset(x_train_tensor, y_train_tensor), shuffle=False, batch_size=32)\n",
        "test_loader = DataLoader(TensorDataset(x_test_tensor, y_test_tensor), shuffle=False, batch_size=32)"
      ],
      "metadata": {
        "id": "JxbbsLkUFiLW"
      },
      "execution_count": null,
      "outputs": []
    },
    {
      "cell_type": "markdown",
      "source": [
        "## **Modeling**"
      ],
      "metadata": {
        "id": "XOwgm_XB_-Fj"
      }
    },
    {
      "cell_type": "markdown",
      "source": [
        "In this process, I didn't build the network from scratch, instead I utilize 2 different pre-trained model, which are ResNet50 and EfficientNetB0. Why I use pre-trained models instead of creating model from scratch? It is simply that the timeline of this project is very short and I have another technical test project (fraud detection), so I think it will be very wise to use pre-trained models."
      ],
      "metadata": {
        "id": "KxOMeLpkwJyE"
      }
    },
    {
      "cell_type": "markdown",
      "source": [
        "Using pre-trained models such as ResNet50 and EfficientNetB0 is also very good I think since these models are trained before in ImageNet dataset. We can simply change the final layer into Linear layer with 4 dimensional output neurons (match with our image labels) and freeze all of other layers behind the final layer."
      ],
      "metadata": {
        "id": "duDDCKVfw3CX"
      }
    },
    {
      "cell_type": "code",
      "source": [
        "# Import packages\n",
        "from torchvision import models\n",
        "from torchsummary import summary"
      ],
      "metadata": {
        "id": "5sfx8v35PnSs"
      },
      "execution_count": null,
      "outputs": []
    },
    {
      "cell_type": "markdown",
      "source": [
        "**ResNet 50**"
      ],
      "metadata": {
        "id": "SJU60D9fQ6hb"
      }
    },
    {
      "cell_type": "code",
      "source": [
        "resnet_model = models.resnet50(pretrained=True)"
      ],
      "metadata": {
        "id": "dAknTFq6cHR4"
      },
      "execution_count": null,
      "outputs": []
    },
    {
      "cell_type": "code",
      "source": [
        "# Change the final FC layer (unfreeze) and freeze the others\n",
        "resnet_model.fc = nn.Linear(2048, 4, bias=True)\n",
        "\n",
        "# Freezing layers\n",
        "for name, module in resnet_model.named_children():\n",
        "  if name != 'fc':\n",
        "    for param in module.parameters():\n",
        "      param.requires_grad = False\n",
        "  else:\n",
        "    param.requires_grad = True"
      ],
      "metadata": {
        "id": "mGyQ2M5BDhbW"
      },
      "execution_count": null,
      "outputs": []
    },
    {
      "cell_type": "code",
      "source": [
        "summary(resnet_model, (3,224,224), device=\"cpu\")"
      ],
      "metadata": {
        "colab": {
          "base_uri": "https://localhost:8080/"
        },
        "id": "VX2bbALJEWvk",
        "outputId": "2dec3d4d-d24f-44e0-d7b4-44fee9100f7d"
      },
      "execution_count": null,
      "outputs": [
        {
          "output_type": "stream",
          "name": "stdout",
          "text": [
            "----------------------------------------------------------------\n",
            "        Layer (type)               Output Shape         Param #\n",
            "================================================================\n",
            "            Conv2d-1         [-1, 64, 112, 112]           9,408\n",
            "       BatchNorm2d-2         [-1, 64, 112, 112]             128\n",
            "              ReLU-3         [-1, 64, 112, 112]               0\n",
            "         MaxPool2d-4           [-1, 64, 56, 56]               0\n",
            "            Conv2d-5           [-1, 64, 56, 56]           4,096\n",
            "       BatchNorm2d-6           [-1, 64, 56, 56]             128\n",
            "              ReLU-7           [-1, 64, 56, 56]               0\n",
            "            Conv2d-8           [-1, 64, 56, 56]          36,864\n",
            "       BatchNorm2d-9           [-1, 64, 56, 56]             128\n",
            "             ReLU-10           [-1, 64, 56, 56]               0\n",
            "           Conv2d-11          [-1, 256, 56, 56]          16,384\n",
            "      BatchNorm2d-12          [-1, 256, 56, 56]             512\n",
            "           Conv2d-13          [-1, 256, 56, 56]          16,384\n",
            "      BatchNorm2d-14          [-1, 256, 56, 56]             512\n",
            "             ReLU-15          [-1, 256, 56, 56]               0\n",
            "       Bottleneck-16          [-1, 256, 56, 56]               0\n",
            "           Conv2d-17           [-1, 64, 56, 56]          16,384\n",
            "      BatchNorm2d-18           [-1, 64, 56, 56]             128\n",
            "             ReLU-19           [-1, 64, 56, 56]               0\n",
            "           Conv2d-20           [-1, 64, 56, 56]          36,864\n",
            "      BatchNorm2d-21           [-1, 64, 56, 56]             128\n",
            "             ReLU-22           [-1, 64, 56, 56]               0\n",
            "           Conv2d-23          [-1, 256, 56, 56]          16,384\n",
            "      BatchNorm2d-24          [-1, 256, 56, 56]             512\n",
            "             ReLU-25          [-1, 256, 56, 56]               0\n",
            "       Bottleneck-26          [-1, 256, 56, 56]               0\n",
            "           Conv2d-27           [-1, 64, 56, 56]          16,384\n",
            "      BatchNorm2d-28           [-1, 64, 56, 56]             128\n",
            "             ReLU-29           [-1, 64, 56, 56]               0\n",
            "           Conv2d-30           [-1, 64, 56, 56]          36,864\n",
            "      BatchNorm2d-31           [-1, 64, 56, 56]             128\n",
            "             ReLU-32           [-1, 64, 56, 56]               0\n",
            "           Conv2d-33          [-1, 256, 56, 56]          16,384\n",
            "      BatchNorm2d-34          [-1, 256, 56, 56]             512\n",
            "             ReLU-35          [-1, 256, 56, 56]               0\n",
            "       Bottleneck-36          [-1, 256, 56, 56]               0\n",
            "           Conv2d-37          [-1, 128, 56, 56]          32,768\n",
            "      BatchNorm2d-38          [-1, 128, 56, 56]             256\n",
            "             ReLU-39          [-1, 128, 56, 56]               0\n",
            "           Conv2d-40          [-1, 128, 28, 28]         147,456\n",
            "      BatchNorm2d-41          [-1, 128, 28, 28]             256\n",
            "             ReLU-42          [-1, 128, 28, 28]               0\n",
            "           Conv2d-43          [-1, 512, 28, 28]          65,536\n",
            "      BatchNorm2d-44          [-1, 512, 28, 28]           1,024\n",
            "           Conv2d-45          [-1, 512, 28, 28]         131,072\n",
            "      BatchNorm2d-46          [-1, 512, 28, 28]           1,024\n",
            "             ReLU-47          [-1, 512, 28, 28]               0\n",
            "       Bottleneck-48          [-1, 512, 28, 28]               0\n",
            "           Conv2d-49          [-1, 128, 28, 28]          65,536\n",
            "      BatchNorm2d-50          [-1, 128, 28, 28]             256\n",
            "             ReLU-51          [-1, 128, 28, 28]               0\n",
            "           Conv2d-52          [-1, 128, 28, 28]         147,456\n",
            "      BatchNorm2d-53          [-1, 128, 28, 28]             256\n",
            "             ReLU-54          [-1, 128, 28, 28]               0\n",
            "           Conv2d-55          [-1, 512, 28, 28]          65,536\n",
            "      BatchNorm2d-56          [-1, 512, 28, 28]           1,024\n",
            "             ReLU-57          [-1, 512, 28, 28]               0\n",
            "       Bottleneck-58          [-1, 512, 28, 28]               0\n",
            "           Conv2d-59          [-1, 128, 28, 28]          65,536\n",
            "      BatchNorm2d-60          [-1, 128, 28, 28]             256\n",
            "             ReLU-61          [-1, 128, 28, 28]               0\n",
            "           Conv2d-62          [-1, 128, 28, 28]         147,456\n",
            "      BatchNorm2d-63          [-1, 128, 28, 28]             256\n",
            "             ReLU-64          [-1, 128, 28, 28]               0\n",
            "           Conv2d-65          [-1, 512, 28, 28]          65,536\n",
            "      BatchNorm2d-66          [-1, 512, 28, 28]           1,024\n",
            "             ReLU-67          [-1, 512, 28, 28]               0\n",
            "       Bottleneck-68          [-1, 512, 28, 28]               0\n",
            "           Conv2d-69          [-1, 128, 28, 28]          65,536\n",
            "      BatchNorm2d-70          [-1, 128, 28, 28]             256\n",
            "             ReLU-71          [-1, 128, 28, 28]               0\n",
            "           Conv2d-72          [-1, 128, 28, 28]         147,456\n",
            "      BatchNorm2d-73          [-1, 128, 28, 28]             256\n",
            "             ReLU-74          [-1, 128, 28, 28]               0\n",
            "           Conv2d-75          [-1, 512, 28, 28]          65,536\n",
            "      BatchNorm2d-76          [-1, 512, 28, 28]           1,024\n",
            "             ReLU-77          [-1, 512, 28, 28]               0\n",
            "       Bottleneck-78          [-1, 512, 28, 28]               0\n",
            "           Conv2d-79          [-1, 256, 28, 28]         131,072\n",
            "      BatchNorm2d-80          [-1, 256, 28, 28]             512\n",
            "             ReLU-81          [-1, 256, 28, 28]               0\n",
            "           Conv2d-82          [-1, 256, 14, 14]         589,824\n",
            "      BatchNorm2d-83          [-1, 256, 14, 14]             512\n",
            "             ReLU-84          [-1, 256, 14, 14]               0\n",
            "           Conv2d-85         [-1, 1024, 14, 14]         262,144\n",
            "      BatchNorm2d-86         [-1, 1024, 14, 14]           2,048\n",
            "           Conv2d-87         [-1, 1024, 14, 14]         524,288\n",
            "      BatchNorm2d-88         [-1, 1024, 14, 14]           2,048\n",
            "             ReLU-89         [-1, 1024, 14, 14]               0\n",
            "       Bottleneck-90         [-1, 1024, 14, 14]               0\n",
            "           Conv2d-91          [-1, 256, 14, 14]         262,144\n",
            "      BatchNorm2d-92          [-1, 256, 14, 14]             512\n",
            "             ReLU-93          [-1, 256, 14, 14]               0\n",
            "           Conv2d-94          [-1, 256, 14, 14]         589,824\n",
            "      BatchNorm2d-95          [-1, 256, 14, 14]             512\n",
            "             ReLU-96          [-1, 256, 14, 14]               0\n",
            "           Conv2d-97         [-1, 1024, 14, 14]         262,144\n",
            "      BatchNorm2d-98         [-1, 1024, 14, 14]           2,048\n",
            "             ReLU-99         [-1, 1024, 14, 14]               0\n",
            "      Bottleneck-100         [-1, 1024, 14, 14]               0\n",
            "          Conv2d-101          [-1, 256, 14, 14]         262,144\n",
            "     BatchNorm2d-102          [-1, 256, 14, 14]             512\n",
            "            ReLU-103          [-1, 256, 14, 14]               0\n",
            "          Conv2d-104          [-1, 256, 14, 14]         589,824\n",
            "     BatchNorm2d-105          [-1, 256, 14, 14]             512\n",
            "            ReLU-106          [-1, 256, 14, 14]               0\n",
            "          Conv2d-107         [-1, 1024, 14, 14]         262,144\n",
            "     BatchNorm2d-108         [-1, 1024, 14, 14]           2,048\n",
            "            ReLU-109         [-1, 1024, 14, 14]               0\n",
            "      Bottleneck-110         [-1, 1024, 14, 14]               0\n",
            "          Conv2d-111          [-1, 256, 14, 14]         262,144\n",
            "     BatchNorm2d-112          [-1, 256, 14, 14]             512\n",
            "            ReLU-113          [-1, 256, 14, 14]               0\n",
            "          Conv2d-114          [-1, 256, 14, 14]         589,824\n",
            "     BatchNorm2d-115          [-1, 256, 14, 14]             512\n",
            "            ReLU-116          [-1, 256, 14, 14]               0\n",
            "          Conv2d-117         [-1, 1024, 14, 14]         262,144\n",
            "     BatchNorm2d-118         [-1, 1024, 14, 14]           2,048\n",
            "            ReLU-119         [-1, 1024, 14, 14]               0\n",
            "      Bottleneck-120         [-1, 1024, 14, 14]               0\n",
            "          Conv2d-121          [-1, 256, 14, 14]         262,144\n",
            "     BatchNorm2d-122          [-1, 256, 14, 14]             512\n",
            "            ReLU-123          [-1, 256, 14, 14]               0\n",
            "          Conv2d-124          [-1, 256, 14, 14]         589,824\n",
            "     BatchNorm2d-125          [-1, 256, 14, 14]             512\n",
            "            ReLU-126          [-1, 256, 14, 14]               0\n",
            "          Conv2d-127         [-1, 1024, 14, 14]         262,144\n",
            "     BatchNorm2d-128         [-1, 1024, 14, 14]           2,048\n",
            "            ReLU-129         [-1, 1024, 14, 14]               0\n",
            "      Bottleneck-130         [-1, 1024, 14, 14]               0\n",
            "          Conv2d-131          [-1, 256, 14, 14]         262,144\n",
            "     BatchNorm2d-132          [-1, 256, 14, 14]             512\n",
            "            ReLU-133          [-1, 256, 14, 14]               0\n",
            "          Conv2d-134          [-1, 256, 14, 14]         589,824\n",
            "     BatchNorm2d-135          [-1, 256, 14, 14]             512\n",
            "            ReLU-136          [-1, 256, 14, 14]               0\n",
            "          Conv2d-137         [-1, 1024, 14, 14]         262,144\n",
            "     BatchNorm2d-138         [-1, 1024, 14, 14]           2,048\n",
            "            ReLU-139         [-1, 1024, 14, 14]               0\n",
            "      Bottleneck-140         [-1, 1024, 14, 14]               0\n",
            "          Conv2d-141          [-1, 512, 14, 14]         524,288\n",
            "     BatchNorm2d-142          [-1, 512, 14, 14]           1,024\n",
            "            ReLU-143          [-1, 512, 14, 14]               0\n",
            "          Conv2d-144            [-1, 512, 7, 7]       2,359,296\n",
            "     BatchNorm2d-145            [-1, 512, 7, 7]           1,024\n",
            "            ReLU-146            [-1, 512, 7, 7]               0\n",
            "          Conv2d-147           [-1, 2048, 7, 7]       1,048,576\n",
            "     BatchNorm2d-148           [-1, 2048, 7, 7]           4,096\n",
            "          Conv2d-149           [-1, 2048, 7, 7]       2,097,152\n",
            "     BatchNorm2d-150           [-1, 2048, 7, 7]           4,096\n",
            "            ReLU-151           [-1, 2048, 7, 7]               0\n",
            "      Bottleneck-152           [-1, 2048, 7, 7]               0\n",
            "          Conv2d-153            [-1, 512, 7, 7]       1,048,576\n",
            "     BatchNorm2d-154            [-1, 512, 7, 7]           1,024\n",
            "            ReLU-155            [-1, 512, 7, 7]               0\n",
            "          Conv2d-156            [-1, 512, 7, 7]       2,359,296\n",
            "     BatchNorm2d-157            [-1, 512, 7, 7]           1,024\n",
            "            ReLU-158            [-1, 512, 7, 7]               0\n",
            "          Conv2d-159           [-1, 2048, 7, 7]       1,048,576\n",
            "     BatchNorm2d-160           [-1, 2048, 7, 7]           4,096\n",
            "            ReLU-161           [-1, 2048, 7, 7]               0\n",
            "      Bottleneck-162           [-1, 2048, 7, 7]               0\n",
            "          Conv2d-163            [-1, 512, 7, 7]       1,048,576\n",
            "     BatchNorm2d-164            [-1, 512, 7, 7]           1,024\n",
            "            ReLU-165            [-1, 512, 7, 7]               0\n",
            "          Conv2d-166            [-1, 512, 7, 7]       2,359,296\n",
            "     BatchNorm2d-167            [-1, 512, 7, 7]           1,024\n",
            "            ReLU-168            [-1, 512, 7, 7]               0\n",
            "          Conv2d-169           [-1, 2048, 7, 7]       1,048,576\n",
            "     BatchNorm2d-170           [-1, 2048, 7, 7]           4,096\n",
            "            ReLU-171           [-1, 2048, 7, 7]               0\n",
            "      Bottleneck-172           [-1, 2048, 7, 7]               0\n",
            "AdaptiveAvgPool2d-173           [-1, 2048, 1, 1]               0\n",
            "          Linear-174                    [-1, 4]           8,196\n",
            "================================================================\n",
            "Total params: 23,516,228\n",
            "Trainable params: 8,196\n",
            "Non-trainable params: 23,508,032\n",
            "----------------------------------------------------------------\n",
            "Input size (MB): 0.57\n",
            "Forward/backward pass size (MB): 286.55\n",
            "Params size (MB): 89.71\n",
            "Estimated Total Size (MB): 376.83\n",
            "----------------------------------------------------------------\n"
          ]
        }
      ]
    },
    {
      "cell_type": "markdown",
      "source": [
        "On model summary above, we can see ResNet50 has 23 million parameters and we just train 8 thousand parameters (all layer except the final layer are freezed)."
      ],
      "metadata": {
        "id": "cwf-eQrdxT7y"
      }
    },
    {
      "cell_type": "code",
      "source": [
        "class ResNet(nn.Module):\n",
        "  def __init__(self):\n",
        "    super().__init__()\n",
        "    self.resnet = resnet_model\n",
        "    self.softmax = nn.Softmax()\n",
        "  def forward(self, input):\n",
        "    output = self.resnet(input)\n",
        "    output = self.softmax(output)\n",
        "    return output"
      ],
      "metadata": {
        "id": "NCM0xtrOCAQQ"
      },
      "execution_count": null,
      "outputs": []
    },
    {
      "cell_type": "code",
      "source": [
        "# Define model\n",
        "model_resnet = ResNet().to('cuda')\n",
        "\n",
        "# Define loss function and optimizer\n",
        "loss_fn = nn.CrossEntropyLoss()\n",
        "optimizer = torch.optim.Adam(model_resnet.parameters(), lr=0.0001)"
      ],
      "metadata": {
        "id": "7ak3yaVpFcGd"
      },
      "execution_count": null,
      "outputs": []
    },
    {
      "cell_type": "code",
      "source": [
        "import warnings\n",
        "warnings.filterwarnings(\"ignore\")\n",
        "EPOCH = 20\n",
        "training_loss = []\n",
        "training_acc = []\n",
        "test_loss = []\n",
        "test_acc = []\n",
        "for epoch in range(EPOCH):\n",
        "  print(f\"EPOCH {epoch+1}\")\n",
        "  model_resnet.train()\n",
        "  for x_train_batch, y_train_batch in tqdm(train_loader):\n",
        "    # Forward propagation\n",
        "    x_train_batch = x_train_batch.to('cuda')\n",
        "    prediction_train = model_resnet.forward(x_train_batch)\n",
        "    prediction_train = prediction_train.to('cpu')\n",
        "    loss_training = loss_fn(prediction_train, y_train_batch)\n",
        "\n",
        "    # Back propagation\n",
        "    optimizer.zero_grad()\n",
        "    loss_training.backward()\n",
        "    optimizer.step()\n",
        "\n",
        "  # Loss value\n",
        "  training_loss.append(loss_training.detach())\n",
        "  # Accuracy value\n",
        "  total_match = torch.sum(torch.argmax(prediction_train, 1) == y_train_batch)\n",
        "  training_accuracy = total_match/len(prediction_train)\n",
        "  training_accuracy = float(training_accuracy.numpy())\n",
        "  training_acc.append(training_accuracy)\n",
        "\n",
        "  # Evaluation\n",
        "  model_resnet.eval()\n",
        "  with torch.no_grad():\n",
        "    for x_test_batch, y_test_batch in test_loader:\n",
        "      x_test_batch = x_test_batch.to('cuda')\n",
        "      prediction_test = model_resnet.forward(x_test_batch)\n",
        "      prediction_test = prediction_test.to('cpu')\n",
        "      loss_test = loss_fn(prediction_test, y_test_batch)\n",
        "\n",
        "    # Loss value\n",
        "    test_loss.append(loss_test.detach())\n",
        "    # Accuracy value\n",
        "    total_match = torch.sum(torch.argmax(prediction_test, 1) == y_test_batch)\n",
        "    test_accuracy = total_match/len(prediction_test)\n",
        "    test_accuracy = float(test_accuracy.numpy())\n",
        "    test_acc.append(test_accuracy)\n",
        "\n",
        "  print(f\"Training Loss = {loss_training} | Training Acc = {training_accuracy} | Test Loss = {loss_test} | Test Acc = {test_accuracy}\")\n",
        "  print(\"\\n\")\n",
        "\n",
        "\n",
        "plt.subplot(1,2,1)\n",
        "plt.plot(list(range(EPOCH)), training_loss, label=\"training loss\", color = \"b\")\n",
        "plt.plot(list(range(EPOCH)), test_loss, label=\"test loss\", color = \"g\")\n",
        "plt.title(\"Loss Values\")\n",
        "plt.subplot(1,2,2)\n",
        "plt.plot(list(range(EPOCH)), training_acc, label=\"training accuracy\", color = \"b\")\n",
        "plt.plot(list(range(EPOCH)), test_acc, label=\"test acc\", color = \"g\")\n",
        "plt.title(\"Accuracy\")"
      ],
      "metadata": {
        "colab": {
          "base_uri": "https://localhost:8080/",
          "height": 1000
        },
        "id": "1jp0Kv7IGtpp",
        "outputId": "89b1263c-51ec-4b5b-cf92-9cccf5640e60"
      },
      "execution_count": null,
      "outputs": [
        {
          "output_type": "stream",
          "name": "stderr",
          "text": [
            "100%|██████████| 50/50 [00:05<00:00,  9.40it/s]\n"
          ]
        },
        {
          "output_type": "stream",
          "name": "stdout",
          "text": [
            "Training Loss = 1.2297011613845825 | Training Acc = 0.78125 | Test Loss = 1.3820961713790894 | Test Acc = 0.3125\n",
            "\n",
            "\n"
          ]
        },
        {
          "output_type": "stream",
          "name": "stderr",
          "text": [
            "100%|██████████| 50/50 [00:05<00:00,  9.48it/s]\n"
          ]
        },
        {
          "output_type": "stream",
          "name": "stdout",
          "text": [
            "Training Loss = 1.0997682809829712 | Training Acc = 0.84375 | Test Loss = 1.2310302257537842 | Test Acc = 0.6875\n",
            "\n",
            "\n"
          ]
        },
        {
          "output_type": "stream",
          "name": "stderr",
          "text": [
            "100%|██████████| 50/50 [00:05<00:00,  9.32it/s]\n"
          ]
        },
        {
          "output_type": "stream",
          "name": "stdout",
          "text": [
            "Training Loss = 1.0271546840667725 | Training Acc = 0.84375 | Test Loss = 1.0502653121948242 | Test Acc = 0.8125\n",
            "\n",
            "\n"
          ]
        },
        {
          "output_type": "stream",
          "name": "stderr",
          "text": [
            "100%|██████████| 50/50 [00:05<00:00,  9.45it/s]\n"
          ]
        },
        {
          "output_type": "stream",
          "name": "stdout",
          "text": [
            "Training Loss = 0.9826416373252869 | Training Acc = 0.875 | Test Loss = 1.0064005851745605 | Test Acc = 0.875\n",
            "\n",
            "\n"
          ]
        },
        {
          "output_type": "stream",
          "name": "stderr",
          "text": [
            "100%|██████████| 50/50 [00:05<00:00,  9.44it/s]\n"
          ]
        },
        {
          "output_type": "stream",
          "name": "stdout",
          "text": [
            "Training Loss = 0.9520809054374695 | Training Acc = 0.9375 | Test Loss = 0.9777168035507202 | Test Acc = 0.875\n",
            "\n",
            "\n"
          ]
        },
        {
          "output_type": "stream",
          "name": "stderr",
          "text": [
            "100%|██████████| 50/50 [00:05<00:00,  9.56it/s]\n"
          ]
        },
        {
          "output_type": "stream",
          "name": "stdout",
          "text": [
            "Training Loss = 0.9296845197677612 | Training Acc = 0.9375 | Test Loss = 0.9572049975395203 | Test Acc = 0.875\n",
            "\n",
            "\n"
          ]
        },
        {
          "output_type": "stream",
          "name": "stderr",
          "text": [
            "100%|██████████| 50/50 [00:05<00:00,  9.53it/s]\n"
          ]
        },
        {
          "output_type": "stream",
          "name": "stdout",
          "text": [
            "Training Loss = 0.91252201795578 | Training Acc = 0.9375 | Test Loss = 0.9419464468955994 | Test Acc = 0.875\n",
            "\n",
            "\n"
          ]
        },
        {
          "output_type": "stream",
          "name": "stderr",
          "text": [
            "100%|██████████| 50/50 [00:05<00:00,  9.56it/s]\n"
          ]
        },
        {
          "output_type": "stream",
          "name": "stdout",
          "text": [
            "Training Loss = 0.8988850712776184 | Training Acc = 0.9375 | Test Loss = 0.930256724357605 | Test Acc = 0.875\n",
            "\n",
            "\n"
          ]
        },
        {
          "output_type": "stream",
          "name": "stderr",
          "text": [
            "100%|██████████| 50/50 [00:05<00:00,  8.56it/s]\n"
          ]
        },
        {
          "output_type": "stream",
          "name": "stdout",
          "text": [
            "Training Loss = 0.8877352476119995 | Training Acc = 0.9375 | Test Loss = 0.9210814833641052 | Test Acc = 0.875\n",
            "\n",
            "\n"
          ]
        },
        {
          "output_type": "stream",
          "name": "stderr",
          "text": [
            "100%|██████████| 50/50 [00:05<00:00,  9.52it/s]\n"
          ]
        },
        {
          "output_type": "stream",
          "name": "stdout",
          "text": [
            "Training Loss = 0.8784225583076477 | Training Acc = 0.9375 | Test Loss = 0.9137269258499146 | Test Acc = 0.875\n",
            "\n",
            "\n"
          ]
        },
        {
          "output_type": "stream",
          "name": "stderr",
          "text": [
            "100%|██████████| 50/50 [00:05<00:00,  9.47it/s]\n"
          ]
        },
        {
          "output_type": "stream",
          "name": "stdout",
          "text": [
            "Training Loss = 0.870519757270813 | Training Acc = 0.96875 | Test Loss = 0.9077202081680298 | Test Acc = 0.875\n",
            "\n",
            "\n"
          ]
        },
        {
          "output_type": "stream",
          "name": "stderr",
          "text": [
            "100%|██████████| 50/50 [00:05<00:00,  9.49it/s]\n"
          ]
        },
        {
          "output_type": "stream",
          "name": "stdout",
          "text": [
            "Training Loss = 0.8637316226959229 | Training Acc = 0.96875 | Test Loss = 0.902730405330658 | Test Acc = 0.875\n",
            "\n",
            "\n"
          ]
        },
        {
          "output_type": "stream",
          "name": "stderr",
          "text": [
            "100%|██████████| 50/50 [00:05<00:00,  9.40it/s]\n"
          ]
        },
        {
          "output_type": "stream",
          "name": "stdout",
          "text": [
            "Training Loss = 0.8578431606292725 | Training Acc = 0.96875 | Test Loss = 0.8985208868980408 | Test Acc = 0.875\n",
            "\n",
            "\n"
          ]
        },
        {
          "output_type": "stream",
          "name": "stderr",
          "text": [
            "100%|██████████| 50/50 [00:05<00:00,  9.41it/s]\n"
          ]
        },
        {
          "output_type": "stream",
          "name": "stdout",
          "text": [
            "Training Loss = 0.8526920676231384 | Training Acc = 0.96875 | Test Loss = 0.8949195146560669 | Test Acc = 0.875\n",
            "\n",
            "\n"
          ]
        },
        {
          "output_type": "stream",
          "name": "stderr",
          "text": [
            "100%|██████████| 50/50 [00:05<00:00,  9.33it/s]\n"
          ]
        },
        {
          "output_type": "stream",
          "name": "stdout",
          "text": [
            "Training Loss = 0.8481526374816895 | Training Acc = 0.96875 | Test Loss = 0.8917990922927856 | Test Acc = 0.875\n",
            "\n",
            "\n"
          ]
        },
        {
          "output_type": "stream",
          "name": "stderr",
          "text": [
            "100%|██████████| 50/50 [00:05<00:00,  9.36it/s]\n"
          ]
        },
        {
          "output_type": "stream",
          "name": "stdout",
          "text": [
            "Training Loss = 0.8441247940063477 | Training Acc = 0.96875 | Test Loss = 0.8890643119812012 | Test Acc = 0.875\n",
            "\n",
            "\n"
          ]
        },
        {
          "output_type": "stream",
          "name": "stderr",
          "text": [
            "100%|██████████| 50/50 [00:05<00:00,  9.26it/s]\n"
          ]
        },
        {
          "output_type": "stream",
          "name": "stdout",
          "text": [
            "Training Loss = 0.8405285477638245 | Training Acc = 0.96875 | Test Loss = 0.88664311170578 | Test Acc = 0.875\n",
            "\n",
            "\n"
          ]
        },
        {
          "output_type": "stream",
          "name": "stderr",
          "text": [
            "100%|██████████| 50/50 [00:05<00:00,  9.36it/s]\n"
          ]
        },
        {
          "output_type": "stream",
          "name": "stdout",
          "text": [
            "Training Loss = 0.837299108505249 | Training Acc = 0.96875 | Test Loss = 0.8844794631004333 | Test Acc = 0.875\n",
            "\n",
            "\n"
          ]
        },
        {
          "output_type": "stream",
          "name": "stderr",
          "text": [
            "100%|██████████| 50/50 [00:05<00:00,  9.30it/s]\n"
          ]
        },
        {
          "output_type": "stream",
          "name": "stdout",
          "text": [
            "Training Loss = 0.834382951259613 | Training Acc = 0.96875 | Test Loss = 0.8825303316116333 | Test Acc = 0.875\n",
            "\n",
            "\n"
          ]
        },
        {
          "output_type": "stream",
          "name": "stderr",
          "text": [
            "100%|██████████| 50/50 [00:05<00:00,  9.35it/s]\n"
          ]
        },
        {
          "output_type": "stream",
          "name": "stdout",
          "text": [
            "Training Loss = 0.8317365646362305 | Training Acc = 0.96875 | Test Loss = 0.8807615041732788 | Test Acc = 0.875\n",
            "\n",
            "\n"
          ]
        },
        {
          "output_type": "execute_result",
          "data": {
            "text/plain": [
              "Text(0.5, 1.0, 'Accuracy')"
            ]
          },
          "metadata": {},
          "execution_count": 119
        },
        {
          "output_type": "display_data",
          "data": {
            "text/plain": [
              "<Figure size 640x480 with 2 Axes>"
            ],
            "image/png": "[encoded data removed]"
          },
          "metadata": {}
        }
      ]
    },
    {
      "cell_type": "markdown",
      "source": [
        "From the loss and accuracy values, we can see that this model performs really well with just 2000 data in 20 epochs training. I can't train again with GPU due to the GPU limitation from google colab (If training is conducted with CPU, the process is quite long). But I think this accuracy and loss will be more good if we can train in more longer epochs."
      ],
      "metadata": {
        "id": "FdIcAY-VxlJL"
      }
    },
    {
      "cell_type": "markdown",
      "source": [
        "**EfficientNet B0**"
      ],
      "metadata": {
        "id": "t3YEEd6XRIjy"
      }
    },
    {
      "cell_type": "markdown",
      "source": [
        "In this experiment using EfficientNetB0, I performed the same thing as I did on ResNet50."
      ],
      "metadata": {
        "id": "f9Nh586qyO1s"
      }
    },
    {
      "cell_type": "code",
      "source": [
        "model_efficient_net = models.efficientnet_b0(pretrained=True)"
      ],
      "metadata": {
        "colab": {
          "base_uri": "https://localhost:8080/"
        },
        "id": "9omRcWHEOpBU",
        "outputId": "7bc5e285-7266-41c4-914d-871b4abb5bcf"
      },
      "execution_count": null,
      "outputs": [
        {
          "output_type": "stream",
          "name": "stderr",
          "text": [
            "/usr/local/lib/python3.11/dist-packages/torchvision/models/_utils.py:208: UserWarning: The parameter 'pretrained' is deprecated since 0.13 and may be removed in the future, please use 'weights' instead.\n",
            "  warnings.warn(\n",
            "/usr/local/lib/python3.11/dist-packages/torchvision/models/_utils.py:223: UserWarning: Arguments other than a weight enum or `None` for 'weights' are deprecated since 0.13 and may be removed in the future. The current behavior is equivalent to passing `weights=EfficientNet_B0_Weights.IMAGENET1K_V1`. You can also use `weights=EfficientNet_B0_Weights.DEFAULT` to get the most up-to-date weights.\n",
            "  warnings.warn(msg)\n",
            "Downloading: \"https://download.pytorch.org/models/efficientnet_b0_rwightman-7f5810bc.pth\" to /root/.cache/torch/hub/checkpoints/efficientnet_b0_rwightman-7f5810bc.pth\n",
            "100%|██████████| 20.5M/20.5M [00:00<00:00, 144MB/s]\n"
          ]
        }
      ]
    },
    {
      "cell_type": "code",
      "source": [
        "# Change the final layer\n",
        "model_efficient_net.classifier[1] = nn.Linear(in_features=1280, out_features=4, bias=True)\n",
        "\n",
        "# Freezing layers\n",
        "for name, module in model_efficient_net.named_children():\n",
        "  if name != 'classifier':\n",
        "    for param in module.parameters():\n",
        "      param.requires_grad = False\n",
        "  else:\n",
        "    for idx, param in enumerate(model_efficient_net.classifier):\n",
        "      if idx == 1:\n",
        "        param.requires_grad = True\n",
        "      else:\n",
        "        param.requires_grad = False"
      ],
      "metadata": {
        "id": "q8rUAbOxRlRH"
      },
      "execution_count": null,
      "outputs": []
    },
    {
      "cell_type": "code",
      "source": [
        "summary(model_efficient_net, (3,224,224), device='cpu')"
      ],
      "metadata": {
        "colab": {
          "base_uri": "https://localhost:8080/"
        },
        "id": "bHzkhTHNR3HX",
        "outputId": "8535e25b-1c7e-4c20-b92f-91ecbfd95f42"
      },
      "execution_count": null,
      "outputs": [
        {
          "output_type": "stream",
          "name": "stdout",
          "text": [
            "----------------------------------------------------------------\n",
            "        Layer (type)               Output Shape         Param #\n",
            "================================================================\n",
            "            Conv2d-1         [-1, 32, 112, 112]             864\n",
            "       BatchNorm2d-2         [-1, 32, 112, 112]              64\n",
            "              SiLU-3         [-1, 32, 112, 112]               0\n",
            "            Conv2d-4         [-1, 32, 112, 112]             288\n",
            "       BatchNorm2d-5         [-1, 32, 112, 112]              64\n",
            "              SiLU-6         [-1, 32, 112, 112]               0\n",
            " AdaptiveAvgPool2d-7             [-1, 32, 1, 1]               0\n",
            "            Conv2d-8              [-1, 8, 1, 1]             264\n",
            "              SiLU-9              [-1, 8, 1, 1]               0\n",
            "           Conv2d-10             [-1, 32, 1, 1]             288\n",
            "          Sigmoid-11             [-1, 32, 1, 1]               0\n",
            "SqueezeExcitation-12         [-1, 32, 112, 112]               0\n",
            "           Conv2d-13         [-1, 16, 112, 112]             512\n",
            "      BatchNorm2d-14         [-1, 16, 112, 112]              32\n",
            "           MBConv-15         [-1, 16, 112, 112]               0\n",
            "           Conv2d-16         [-1, 96, 112, 112]           1,536\n",
            "      BatchNorm2d-17         [-1, 96, 112, 112]             192\n",
            "             SiLU-18         [-1, 96, 112, 112]               0\n",
            "           Conv2d-19           [-1, 96, 56, 56]             864\n",
            "      BatchNorm2d-20           [-1, 96, 56, 56]             192\n",
            "             SiLU-21           [-1, 96, 56, 56]               0\n",
            "AdaptiveAvgPool2d-22             [-1, 96, 1, 1]               0\n",
            "           Conv2d-23              [-1, 4, 1, 1]             388\n",
            "             SiLU-24              [-1, 4, 1, 1]               0\n",
            "           Conv2d-25             [-1, 96, 1, 1]             480\n",
            "          Sigmoid-26             [-1, 96, 1, 1]               0\n",
            "SqueezeExcitation-27           [-1, 96, 56, 56]               0\n",
            "           Conv2d-28           [-1, 24, 56, 56]           2,304\n",
            "      BatchNorm2d-29           [-1, 24, 56, 56]              48\n",
            "           MBConv-30           [-1, 24, 56, 56]               0\n",
            "           Conv2d-31          [-1, 144, 56, 56]           3,456\n",
            "      BatchNorm2d-32          [-1, 144, 56, 56]             288\n",
            "             SiLU-33          [-1, 144, 56, 56]               0\n",
            "           Conv2d-34          [-1, 144, 56, 56]           1,296\n",
            "      BatchNorm2d-35          [-1, 144, 56, 56]             288\n",
            "             SiLU-36          [-1, 144, 56, 56]               0\n",
            "AdaptiveAvgPool2d-37            [-1, 144, 1, 1]               0\n",
            "           Conv2d-38              [-1, 6, 1, 1]             870\n",
            "             SiLU-39              [-1, 6, 1, 1]               0\n",
            "           Conv2d-40            [-1, 144, 1, 1]           1,008\n",
            "          Sigmoid-41            [-1, 144, 1, 1]               0\n",
            "SqueezeExcitation-42          [-1, 144, 56, 56]               0\n",
            "           Conv2d-43           [-1, 24, 56, 56]           3,456\n",
            "      BatchNorm2d-44           [-1, 24, 56, 56]              48\n",
            "  StochasticDepth-45           [-1, 24, 56, 56]               0\n",
            "           MBConv-46           [-1, 24, 56, 56]               0\n",
            "           Conv2d-47          [-1, 144, 56, 56]           3,456\n",
            "      BatchNorm2d-48          [-1, 144, 56, 56]             288\n",
            "             SiLU-49          [-1, 144, 56, 56]               0\n",
            "           Conv2d-50          [-1, 144, 28, 28]           3,600\n",
            "      BatchNorm2d-51          [-1, 144, 28, 28]             288\n",
            "             SiLU-52          [-1, 144, 28, 28]               0\n",
            "AdaptiveAvgPool2d-53            [-1, 144, 1, 1]               0\n",
            "           Conv2d-54              [-1, 6, 1, 1]             870\n",
            "             SiLU-55              [-1, 6, 1, 1]               0\n",
            "           Conv2d-56            [-1, 144, 1, 1]           1,008\n",
            "          Sigmoid-57            [-1, 144, 1, 1]               0\n",
            "SqueezeExcitation-58          [-1, 144, 28, 28]               0\n",
            "           Conv2d-59           [-1, 40, 28, 28]           5,760\n",
            "      BatchNorm2d-60           [-1, 40, 28, 28]              80\n",
            "           MBConv-61           [-1, 40, 28, 28]               0\n",
            "           Conv2d-62          [-1, 240, 28, 28]           9,600\n",
            "      BatchNorm2d-63          [-1, 240, 28, 28]             480\n",
            "             SiLU-64          [-1, 240, 28, 28]               0\n",
            "           Conv2d-65          [-1, 240, 28, 28]           6,000\n",
            "      BatchNorm2d-66          [-1, 240, 28, 28]             480\n",
            "             SiLU-67          [-1, 240, 28, 28]               0\n",
            "AdaptiveAvgPool2d-68            [-1, 240, 1, 1]               0\n",
            "           Conv2d-69             [-1, 10, 1, 1]           2,410\n",
            "             SiLU-70             [-1, 10, 1, 1]               0\n",
            "           Conv2d-71            [-1, 240, 1, 1]           2,640\n",
            "          Sigmoid-72            [-1, 240, 1, 1]               0\n",
            "SqueezeExcitation-73          [-1, 240, 28, 28]               0\n",
            "           Conv2d-74           [-1, 40, 28, 28]           9,600\n",
            "      BatchNorm2d-75           [-1, 40, 28, 28]              80\n",
            "  StochasticDepth-76           [-1, 40, 28, 28]               0\n",
            "           MBConv-77           [-1, 40, 28, 28]               0\n",
            "           Conv2d-78          [-1, 240, 28, 28]           9,600\n",
            "      BatchNorm2d-79          [-1, 240, 28, 28]             480\n",
            "             SiLU-80          [-1, 240, 28, 28]               0\n",
            "           Conv2d-81          [-1, 240, 14, 14]           2,160\n",
            "      BatchNorm2d-82          [-1, 240, 14, 14]             480\n",
            "             SiLU-83          [-1, 240, 14, 14]               0\n",
            "AdaptiveAvgPool2d-84            [-1, 240, 1, 1]               0\n",
            "           Conv2d-85             [-1, 10, 1, 1]           2,410\n",
            "             SiLU-86             [-1, 10, 1, 1]               0\n",
            "           Conv2d-87            [-1, 240, 1, 1]           2,640\n",
            "          Sigmoid-88            [-1, 240, 1, 1]               0\n",
            "SqueezeExcitation-89          [-1, 240, 14, 14]               0\n",
            "           Conv2d-90           [-1, 80, 14, 14]          19,200\n",
            "      BatchNorm2d-91           [-1, 80, 14, 14]             160\n",
            "           MBConv-92           [-1, 80, 14, 14]               0\n",
            "           Conv2d-93          [-1, 480, 14, 14]          38,400\n",
            "      BatchNorm2d-94          [-1, 480, 14, 14]             960\n",
            "             SiLU-95          [-1, 480, 14, 14]               0\n",
            "           Conv2d-96          [-1, 480, 14, 14]           4,320\n",
            "      BatchNorm2d-97          [-1, 480, 14, 14]             960\n",
            "             SiLU-98          [-1, 480, 14, 14]               0\n",
            "AdaptiveAvgPool2d-99            [-1, 480, 1, 1]               0\n",
            "          Conv2d-100             [-1, 20, 1, 1]           9,620\n",
            "            SiLU-101             [-1, 20, 1, 1]               0\n",
            "          Conv2d-102            [-1, 480, 1, 1]          10,080\n",
            "         Sigmoid-103            [-1, 480, 1, 1]               0\n",
            "SqueezeExcitation-104          [-1, 480, 14, 14]               0\n",
            "          Conv2d-105           [-1, 80, 14, 14]          38,400\n",
            "     BatchNorm2d-106           [-1, 80, 14, 14]             160\n",
            " StochasticDepth-107           [-1, 80, 14, 14]               0\n",
            "          MBConv-108           [-1, 80, 14, 14]               0\n",
            "          Conv2d-109          [-1, 480, 14, 14]          38,400\n",
            "     BatchNorm2d-110          [-1, 480, 14, 14]             960\n",
            "            SiLU-111          [-1, 480, 14, 14]               0\n",
            "          Conv2d-112          [-1, 480, 14, 14]           4,320\n",
            "     BatchNorm2d-113          [-1, 480, 14, 14]             960\n",
            "            SiLU-114          [-1, 480, 14, 14]               0\n",
            "AdaptiveAvgPool2d-115            [-1, 480, 1, 1]               0\n",
            "          Conv2d-116             [-1, 20, 1, 1]           9,620\n",
            "            SiLU-117             [-1, 20, 1, 1]               0\n",
            "          Conv2d-118            [-1, 480, 1, 1]          10,080\n",
            "         Sigmoid-119            [-1, 480, 1, 1]               0\n",
            "SqueezeExcitation-120          [-1, 480, 14, 14]               0\n",
            "          Conv2d-121           [-1, 80, 14, 14]          38,400\n",
            "     BatchNorm2d-122           [-1, 80, 14, 14]             160\n",
            " StochasticDepth-123           [-1, 80, 14, 14]               0\n",
            "          MBConv-124           [-1, 80, 14, 14]               0\n",
            "          Conv2d-125          [-1, 480, 14, 14]          38,400\n",
            "     BatchNorm2d-126          [-1, 480, 14, 14]             960\n",
            "            SiLU-127          [-1, 480, 14, 14]               0\n",
            "          Conv2d-128          [-1, 480, 14, 14]          12,000\n",
            "     BatchNorm2d-129          [-1, 480, 14, 14]             960\n",
            "            SiLU-130          [-1, 480, 14, 14]               0\n",
            "AdaptiveAvgPool2d-131            [-1, 480, 1, 1]               0\n",
            "          Conv2d-132             [-1, 20, 1, 1]           9,620\n",
            "            SiLU-133             [-1, 20, 1, 1]               0\n",
            "          Conv2d-134            [-1, 480, 1, 1]          10,080\n",
            "         Sigmoid-135            [-1, 480, 1, 1]               0\n",
            "SqueezeExcitation-136          [-1, 480, 14, 14]               0\n",
            "          Conv2d-137          [-1, 112, 14, 14]          53,760\n",
            "     BatchNorm2d-138          [-1, 112, 14, 14]             224\n",
            "          MBConv-139          [-1, 112, 14, 14]               0\n",
            "          Conv2d-140          [-1, 672, 14, 14]          75,264\n",
            "     BatchNorm2d-141          [-1, 672, 14, 14]           1,344\n",
            "            SiLU-142          [-1, 672, 14, 14]               0\n",
            "          Conv2d-143          [-1, 672, 14, 14]          16,800\n",
            "     BatchNorm2d-144          [-1, 672, 14, 14]           1,344\n",
            "            SiLU-145          [-1, 672, 14, 14]               0\n",
            "AdaptiveAvgPool2d-146            [-1, 672, 1, 1]               0\n",
            "          Conv2d-147             [-1, 28, 1, 1]          18,844\n",
            "            SiLU-148             [-1, 28, 1, 1]               0\n",
            "          Conv2d-149            [-1, 672, 1, 1]          19,488\n",
            "         Sigmoid-150            [-1, 672, 1, 1]               0\n",
            "SqueezeExcitation-151          [-1, 672, 14, 14]               0\n",
            "          Conv2d-152          [-1, 112, 14, 14]          75,264\n",
            "     BatchNorm2d-153          [-1, 112, 14, 14]             224\n",
            " StochasticDepth-154          [-1, 112, 14, 14]               0\n",
            "          MBConv-155          [-1, 112, 14, 14]               0\n",
            "          Conv2d-156          [-1, 672, 14, 14]          75,264\n",
            "     BatchNorm2d-157          [-1, 672, 14, 14]           1,344\n",
            "            SiLU-158          [-1, 672, 14, 14]               0\n",
            "          Conv2d-159          [-1, 672, 14, 14]          16,800\n",
            "     BatchNorm2d-160          [-1, 672, 14, 14]           1,344\n",
            "            SiLU-161          [-1, 672, 14, 14]               0\n",
            "AdaptiveAvgPool2d-162            [-1, 672, 1, 1]               0\n",
            "          Conv2d-163             [-1, 28, 1, 1]          18,844\n",
            "            SiLU-164             [-1, 28, 1, 1]               0\n",
            "          Conv2d-165            [-1, 672, 1, 1]          19,488\n",
            "         Sigmoid-166            [-1, 672, 1, 1]               0\n",
            "SqueezeExcitation-167          [-1, 672, 14, 14]               0\n",
            "          Conv2d-168          [-1, 112, 14, 14]          75,264\n",
            "     BatchNorm2d-169          [-1, 112, 14, 14]             224\n",
            " StochasticDepth-170          [-1, 112, 14, 14]               0\n",
            "          MBConv-171          [-1, 112, 14, 14]               0\n",
            "          Conv2d-172          [-1, 672, 14, 14]          75,264\n",
            "     BatchNorm2d-173          [-1, 672, 14, 14]           1,344\n",
            "            SiLU-174          [-1, 672, 14, 14]               0\n",
            "          Conv2d-175            [-1, 672, 7, 7]          16,800\n",
            "     BatchNorm2d-176            [-1, 672, 7, 7]           1,344\n",
            "            SiLU-177            [-1, 672, 7, 7]               0\n",
            "AdaptiveAvgPool2d-178            [-1, 672, 1, 1]               0\n",
            "          Conv2d-179             [-1, 28, 1, 1]          18,844\n",
            "            SiLU-180             [-1, 28, 1, 1]               0\n",
            "          Conv2d-181            [-1, 672, 1, 1]          19,488\n",
            "         Sigmoid-182            [-1, 672, 1, 1]               0\n",
            "SqueezeExcitation-183            [-1, 672, 7, 7]               0\n",
            "          Conv2d-184            [-1, 192, 7, 7]         129,024\n",
            "     BatchNorm2d-185            [-1, 192, 7, 7]             384\n",
            "          MBConv-186            [-1, 192, 7, 7]               0\n",
            "          Conv2d-187           [-1, 1152, 7, 7]         221,184\n",
            "     BatchNorm2d-188           [-1, 1152, 7, 7]           2,304\n",
            "            SiLU-189           [-1, 1152, 7, 7]               0\n",
            "          Conv2d-190           [-1, 1152, 7, 7]          28,800\n",
            "     BatchNorm2d-191           [-1, 1152, 7, 7]           2,304\n",
            "            SiLU-192           [-1, 1152, 7, 7]               0\n",
            "AdaptiveAvgPool2d-193           [-1, 1152, 1, 1]               0\n",
            "          Conv2d-194             [-1, 48, 1, 1]          55,344\n",
            "            SiLU-195             [-1, 48, 1, 1]               0\n",
            "          Conv2d-196           [-1, 1152, 1, 1]          56,448\n",
            "         Sigmoid-197           [-1, 1152, 1, 1]               0\n",
            "SqueezeExcitation-198           [-1, 1152, 7, 7]               0\n",
            "          Conv2d-199            [-1, 192, 7, 7]         221,184\n",
            "     BatchNorm2d-200            [-1, 192, 7, 7]             384\n",
            " StochasticDepth-201            [-1, 192, 7, 7]               0\n",
            "          MBConv-202            [-1, 192, 7, 7]               0\n",
            "          Conv2d-203           [-1, 1152, 7, 7]         221,184\n",
            "     BatchNorm2d-204           [-1, 1152, 7, 7]           2,304\n",
            "            SiLU-205           [-1, 1152, 7, 7]               0\n",
            "          Conv2d-206           [-1, 1152, 7, 7]          28,800\n",
            "     BatchNorm2d-207           [-1, 1152, 7, 7]           2,304\n",
            "            SiLU-208           [-1, 1152, 7, 7]               0\n",
            "AdaptiveAvgPool2d-209           [-1, 1152, 1, 1]               0\n",
            "          Conv2d-210             [-1, 48, 1, 1]          55,344\n",
            "            SiLU-211             [-1, 48, 1, 1]               0\n",
            "          Conv2d-212           [-1, 1152, 1, 1]          56,448\n",
            "         Sigmoid-213           [-1, 1152, 1, 1]               0\n",
            "SqueezeExcitation-214           [-1, 1152, 7, 7]               0\n",
            "          Conv2d-215            [-1, 192, 7, 7]         221,184\n",
            "     BatchNorm2d-216            [-1, 192, 7, 7]             384\n",
            " StochasticDepth-217            [-1, 192, 7, 7]               0\n",
            "          MBConv-218            [-1, 192, 7, 7]               0\n",
            "          Conv2d-219           [-1, 1152, 7, 7]         221,184\n",
            "     BatchNorm2d-220           [-1, 1152, 7, 7]           2,304\n",
            "            SiLU-221           [-1, 1152, 7, 7]               0\n",
            "          Conv2d-222           [-1, 1152, 7, 7]          28,800\n",
            "     BatchNorm2d-223           [-1, 1152, 7, 7]           2,304\n",
            "            SiLU-224           [-1, 1152, 7, 7]               0\n",
            "AdaptiveAvgPool2d-225           [-1, 1152, 1, 1]               0\n",
            "          Conv2d-226             [-1, 48, 1, 1]          55,344\n",
            "            SiLU-227             [-1, 48, 1, 1]               0\n",
            "          Conv2d-228           [-1, 1152, 1, 1]          56,448\n",
            "         Sigmoid-229           [-1, 1152, 1, 1]               0\n",
            "SqueezeExcitation-230           [-1, 1152, 7, 7]               0\n",
            "          Conv2d-231            [-1, 192, 7, 7]         221,184\n",
            "     BatchNorm2d-232            [-1, 192, 7, 7]             384\n",
            " StochasticDepth-233            [-1, 192, 7, 7]               0\n",
            "          MBConv-234            [-1, 192, 7, 7]               0\n",
            "          Conv2d-235           [-1, 1152, 7, 7]         221,184\n",
            "     BatchNorm2d-236           [-1, 1152, 7, 7]           2,304\n",
            "            SiLU-237           [-1, 1152, 7, 7]               0\n",
            "          Conv2d-238           [-1, 1152, 7, 7]          10,368\n",
            "     BatchNorm2d-239           [-1, 1152, 7, 7]           2,304\n",
            "            SiLU-240           [-1, 1152, 7, 7]               0\n",
            "AdaptiveAvgPool2d-241           [-1, 1152, 1, 1]               0\n",
            "          Conv2d-242             [-1, 48, 1, 1]          55,344\n",
            "            SiLU-243             [-1, 48, 1, 1]               0\n",
            "          Conv2d-244           [-1, 1152, 1, 1]          56,448\n",
            "         Sigmoid-245           [-1, 1152, 1, 1]               0\n",
            "SqueezeExcitation-246           [-1, 1152, 7, 7]               0\n",
            "          Conv2d-247            [-1, 320, 7, 7]         368,640\n",
            "     BatchNorm2d-248            [-1, 320, 7, 7]             640\n",
            "          MBConv-249            [-1, 320, 7, 7]               0\n",
            "          Conv2d-250           [-1, 1280, 7, 7]         409,600\n",
            "     BatchNorm2d-251           [-1, 1280, 7, 7]           2,560\n",
            "            SiLU-252           [-1, 1280, 7, 7]               0\n",
            "AdaptiveAvgPool2d-253           [-1, 1280, 1, 1]               0\n",
            "         Dropout-254                 [-1, 1280]               0\n",
            "          Linear-255                    [-1, 4]           5,124\n",
            "================================================================\n",
            "Total params: 4,012,672\n",
            "Trainable params: 5,124\n",
            "Non-trainable params: 4,007,548\n",
            "----------------------------------------------------------------\n",
            "Input size (MB): 0.57\n",
            "Forward/backward pass size (MB): 173.64\n",
            "Params size (MB): 15.31\n",
            "Estimated Total Size (MB): 189.53\n",
            "----------------------------------------------------------------\n"
          ]
        }
      ]
    },
    {
      "cell_type": "markdown",
      "source": [
        "In this model parameters, we can see the resnet parameters are lower than ResNet50."
      ],
      "metadata": {
        "id": "2R88Z_FryVm6"
      }
    },
    {
      "cell_type": "code",
      "source": [
        "class EfficientNet(nn.Module):\n",
        "  def __init__(self):\n",
        "    super().__init__()\n",
        "    self.efficientnet = model_efficient_net\n",
        "    self.softmax = nn.Softmax()\n",
        "  def forward(self, input):\n",
        "    output = self.efficientnet(input)\n",
        "    output = self.softmax(output)\n",
        "    return output"
      ],
      "metadata": {
        "id": "7xooNd-jSUJG"
      },
      "execution_count": null,
      "outputs": []
    },
    {
      "cell_type": "code",
      "source": [
        "# Define model\n",
        "model_efficient_net = EfficientNet().to('cuda')\n",
        "\n",
        "# Define loss function and optimizer\n",
        "loss_fn = nn.CrossEntropyLoss()\n",
        "optimizer = torch.optim.Adam(model_efficient_net.parameters(), lr=0.0001)"
      ],
      "metadata": {
        "id": "MPiLO82SS4-M"
      },
      "execution_count": null,
      "outputs": []
    },
    {
      "cell_type": "code",
      "source": [
        "import warnings\n",
        "warnings.filterwarnings(\"ignore\")\n",
        "EPOCH = 20\n",
        "training_loss = []\n",
        "training_acc = []\n",
        "test_loss = []\n",
        "test_acc = []\n",
        "for epoch in range(EPOCH):\n",
        "  print(f\"EPOCH {epoch+1}\")\n",
        "  model_efficient_net.train()\n",
        "  for x_train_batch, y_train_batch in tqdm(train_loader):\n",
        "    # Forward propagation\n",
        "    x_train_batch = x_train_batch.to('cuda')\n",
        "    prediction_train = model_efficient_net.forward(x_train_batch)\n",
        "    prediction_train = prediction_train.to('cpu')\n",
        "    loss_training = loss_fn(prediction_train, y_train_batch)\n",
        "\n",
        "    # Back propagation\n",
        "    optimizer.zero_grad()\n",
        "    loss_training.backward()\n",
        "    optimizer.step()\n",
        "\n",
        "  # Loss value\n",
        "  training_loss.append(loss_training.detach())\n",
        "  # Accuracy value\n",
        "  total_match = torch.sum(torch.argmax(prediction_train, 1) == y_train_batch)\n",
        "  training_accuracy = total_match/len(prediction_train)\n",
        "  training_accuracy = float(training_accuracy.numpy())\n",
        "  training_acc.append(training_accuracy)\n",
        "\n",
        "  # Evaluation\n",
        "  model_efficient_net.eval()\n",
        "  with torch.no_grad():\n",
        "    for x_test_batch, y_test_batch in test_loader:\n",
        "      x_test_batch = x_test_batch.to('cuda')\n",
        "      prediction_test = model_efficient_net.forward(x_test_batch)\n",
        "      prediction_test = prediction_test.to('cpu')\n",
        "      loss_test = loss_fn(prediction_test, y_test_batch)\n",
        "\n",
        "    # Loss value\n",
        "    test_loss.append(loss_test.detach())\n",
        "    # Accuracy value\n",
        "    total_match = torch.sum(torch.argmax(prediction_test, 1) == y_test_batch)\n",
        "    test_accuracy = total_match/len(prediction_test)\n",
        "    test_accuracy = float(test_accuracy.numpy())\n",
        "    test_acc.append(test_accuracy)\n",
        "\n",
        "  print(f\"Training Loss = {loss_training} | Training Acc = {training_accuracy} | Test Loss = {loss_test} | Test Acc = {test_accuracy}\")\n",
        "  print(\"\\n\")\n",
        "\n",
        "\n",
        "plt.subplot(1,2,1)\n",
        "plt.plot(list(range(EPOCH)), training_loss, label=\"training loss\", color = \"b\")\n",
        "plt.plot(list(range(EPOCH)), test_loss, label=\"test loss\", color = \"g\")\n",
        "plt.title(\"Loss Values\")\n",
        "plt.subplot(1,2,2)\n",
        "plt.plot(list(range(EPOCH)), training_acc, label=\"training accuracy\", color = \"b\")\n",
        "plt.plot(list(range(EPOCH)), test_acc, label=\"test acc\", color = \"g\")\n",
        "plt.title(\"Accuracy\")"
      ],
      "metadata": {
        "colab": {
          "base_uri": "https://localhost:8080/",
          "height": 1000
        },
        "id": "gjV358xJaLt7",
        "outputId": "3409a83f-4788-409c-86f9-6b1cf5490d69"
      },
      "execution_count": null,
      "outputs": [
        {
          "output_type": "stream",
          "name": "stdout",
          "text": [
            "EPOCH 1\n"
          ]
        },
        {
          "output_type": "stream",
          "name": "stderr",
          "text": [
            "100%|██████████| 50/50 [00:03<00:00, 12.62it/s]\n"
          ]
        },
        {
          "output_type": "stream",
          "name": "stdout",
          "text": [
            "Training Loss = 1.3544716835021973 | Training Acc = 0.53125 | Test Loss = 1.3899229764938354 | Test Acc = 0.0625\n",
            "\n",
            "\n",
            "EPOCH 2\n"
          ]
        },
        {
          "output_type": "stream",
          "name": "stderr",
          "text": [
            "100%|██████████| 50/50 [00:02<00:00, 20.11it/s]\n"
          ]
        },
        {
          "output_type": "stream",
          "name": "stdout",
          "text": [
            "Training Loss = 1.2936336994171143 | Training Acc = 0.65625 | Test Loss = 1.3447355031967163 | Test Acc = 0.3125\n",
            "\n",
            "\n",
            "EPOCH 3\n"
          ]
        },
        {
          "output_type": "stream",
          "name": "stderr",
          "text": [
            "100%|██████████| 50/50 [00:02<00:00, 20.17it/s]\n"
          ]
        },
        {
          "output_type": "stream",
          "name": "stdout",
          "text": [
            "Training Loss = 1.2424999475479126 | Training Acc = 0.78125 | Test Loss = 1.227216124534607 | Test Acc = 0.75\n",
            "\n",
            "\n",
            "EPOCH 4\n"
          ]
        },
        {
          "output_type": "stream",
          "name": "stderr",
          "text": [
            "100%|██████████| 50/50 [00:02<00:00, 20.31it/s]\n"
          ]
        },
        {
          "output_type": "stream",
          "name": "stdout",
          "text": [
            "Training Loss = 1.1996426582336426 | Training Acc = 0.84375 | Test Loss = 1.1838568449020386 | Test Acc = 0.75\n",
            "\n",
            "\n",
            "EPOCH 5\n"
          ]
        },
        {
          "output_type": "stream",
          "name": "stderr",
          "text": [
            "100%|██████████| 50/50 [00:02<00:00, 20.56it/s]\n"
          ]
        },
        {
          "output_type": "stream",
          "name": "stdout",
          "text": [
            "Training Loss = 1.147429347038269 | Training Acc = 0.875 | Test Loss = 1.1482131481170654 | Test Acc = 0.75\n",
            "\n",
            "\n",
            "EPOCH 6\n"
          ]
        },
        {
          "output_type": "stream",
          "name": "stderr",
          "text": [
            "100%|██████████| 50/50 [00:02<00:00, 20.06it/s]\n"
          ]
        },
        {
          "output_type": "stream",
          "name": "stdout",
          "text": [
            "Training Loss = 1.1300641298294067 | Training Acc = 0.84375 | Test Loss = 1.1190662384033203 | Test Acc = 0.75\n",
            "\n",
            "\n",
            "EPOCH 7\n"
          ]
        },
        {
          "output_type": "stream",
          "name": "stderr",
          "text": [
            "100%|██████████| 50/50 [00:02<00:00, 19.78it/s]\n"
          ]
        },
        {
          "output_type": "stream",
          "name": "stdout",
          "text": [
            "Training Loss = 1.094294786453247 | Training Acc = 0.90625 | Test Loss = 1.0938236713409424 | Test Acc = 0.75\n",
            "\n",
            "\n",
            "EPOCH 8\n"
          ]
        },
        {
          "output_type": "stream",
          "name": "stderr",
          "text": [
            "100%|██████████| 50/50 [00:02<00:00, 20.81it/s]\n"
          ]
        },
        {
          "output_type": "stream",
          "name": "stdout",
          "text": [
            "Training Loss = 1.0673279762268066 | Training Acc = 0.90625 | Test Loss = 1.0735684633255005 | Test Acc = 0.75\n",
            "\n",
            "\n",
            "EPOCH 9\n"
          ]
        },
        {
          "output_type": "stream",
          "name": "stderr",
          "text": [
            "100%|██████████| 50/50 [00:02<00:00, 19.42it/s]\n"
          ]
        },
        {
          "output_type": "stream",
          "name": "stdout",
          "text": [
            "Training Loss = 1.0470693111419678 | Training Acc = 0.875 | Test Loss = 1.0583751201629639 | Test Acc = 0.75\n",
            "\n",
            "\n",
            "EPOCH 10\n"
          ]
        },
        {
          "output_type": "stream",
          "name": "stderr",
          "text": [
            "100%|██████████| 50/50 [00:02<00:00, 20.50it/s]\n"
          ]
        },
        {
          "output_type": "stream",
          "name": "stdout",
          "text": [
            "Training Loss = 1.0261186361312866 | Training Acc = 0.875 | Test Loss = 1.043038249015808 | Test Acc = 0.75\n",
            "\n",
            "\n",
            "EPOCH 11\n"
          ]
        },
        {
          "output_type": "stream",
          "name": "stderr",
          "text": [
            "100%|██████████| 50/50 [00:02<00:00, 20.06it/s]\n"
          ]
        },
        {
          "output_type": "stream",
          "name": "stdout",
          "text": [
            "Training Loss = 1.015802025794983 | Training Acc = 0.875 | Test Loss = 1.0327447652816772 | Test Acc = 0.8125\n",
            "\n",
            "\n",
            "EPOCH 12\n"
          ]
        },
        {
          "output_type": "stream",
          "name": "stderr",
          "text": [
            "100%|██████████| 50/50 [00:02<00:00, 21.01it/s]\n"
          ]
        },
        {
          "output_type": "stream",
          "name": "stdout",
          "text": [
            "Training Loss = 0.994796633720398 | Training Acc = 0.875 | Test Loss = 1.0217890739440918 | Test Acc = 0.8125\n",
            "\n",
            "\n",
            "EPOCH 13\n"
          ]
        },
        {
          "output_type": "stream",
          "name": "stderr",
          "text": [
            "100%|██████████| 50/50 [00:02<00:00, 20.43it/s]\n"
          ]
        },
        {
          "output_type": "stream",
          "name": "stdout",
          "text": [
            "Training Loss = 0.9844626784324646 | Training Acc = 0.90625 | Test Loss = 1.0128880739212036 | Test Acc = 0.8125\n",
            "\n",
            "\n",
            "EPOCH 14\n"
          ]
        },
        {
          "output_type": "stream",
          "name": "stderr",
          "text": [
            "100%|██████████| 50/50 [00:02<00:00, 20.25it/s]\n"
          ]
        },
        {
          "output_type": "stream",
          "name": "stdout",
          "text": [
            "Training Loss = 0.9666385650634766 | Training Acc = 0.90625 | Test Loss = 1.0053642988204956 | Test Acc = 0.8125\n",
            "\n",
            "\n",
            "EPOCH 15\n"
          ]
        },
        {
          "output_type": "stream",
          "name": "stderr",
          "text": [
            "100%|██████████| 50/50 [00:02<00:00, 19.82it/s]\n"
          ]
        },
        {
          "output_type": "stream",
          "name": "stdout",
          "text": [
            "Training Loss = 0.9629641771316528 | Training Acc = 0.90625 | Test Loss = 0.9983636140823364 | Test Acc = 0.8125\n",
            "\n",
            "\n",
            "EPOCH 16\n"
          ]
        },
        {
          "output_type": "stream",
          "name": "stderr",
          "text": [
            "100%|██████████| 50/50 [00:02<00:00, 19.76it/s]\n"
          ]
        },
        {
          "output_type": "stream",
          "name": "stdout",
          "text": [
            "Training Loss = 0.9511095285415649 | Training Acc = 0.90625 | Test Loss = 0.9929524064064026 | Test Acc = 0.8125\n",
            "\n",
            "\n",
            "EPOCH 17\n"
          ]
        },
        {
          "output_type": "stream",
          "name": "stderr",
          "text": [
            "100%|██████████| 50/50 [00:02<00:00, 20.71it/s]\n"
          ]
        },
        {
          "output_type": "stream",
          "name": "stdout",
          "text": [
            "Training Loss = 0.9697095155715942 | Training Acc = 0.875 | Test Loss = 0.9865179657936096 | Test Acc = 0.8125\n",
            "\n",
            "\n",
            "EPOCH 18\n"
          ]
        },
        {
          "output_type": "stream",
          "name": "stderr",
          "text": [
            "100%|██████████| 50/50 [00:02<00:00, 20.30it/s]\n"
          ]
        },
        {
          "output_type": "stream",
          "name": "stdout",
          "text": [
            "Training Loss = 0.9412479400634766 | Training Acc = 0.90625 | Test Loss = 0.9812501668930054 | Test Acc = 0.8125\n",
            "\n",
            "\n",
            "EPOCH 19\n"
          ]
        },
        {
          "output_type": "stream",
          "name": "stderr",
          "text": [
            "100%|██████████| 50/50 [00:02<00:00, 17.31it/s]\n"
          ]
        },
        {
          "output_type": "stream",
          "name": "stdout",
          "text": [
            "Training Loss = 0.9362868070602417 | Training Acc = 0.90625 | Test Loss = 0.9768690466880798 | Test Acc = 0.8125\n",
            "\n",
            "\n",
            "EPOCH 20\n"
          ]
        },
        {
          "output_type": "stream",
          "name": "stderr",
          "text": [
            "100%|██████████| 50/50 [00:02<00:00, 19.85it/s]\n"
          ]
        },
        {
          "output_type": "stream",
          "name": "stdout",
          "text": [
            "Training Loss = 0.9388538599014282 | Training Acc = 0.90625 | Test Loss = 0.9714066982269287 | Test Acc = 0.8125\n",
            "\n",
            "\n"
          ]
        },
        {
          "output_type": "execute_result",
          "data": {
            "text/plain": [
              "Text(0.5, 1.0, 'Accuracy')"
            ]
          },
          "metadata": {},
          "execution_count": 14
        },
        {
          "output_type": "display_data",
          "data": {
            "text/plain": [
              "<Figure size 640x480 with 2 Axes>"
            ],
            "image/png": "[encoded data removed]"
          },
          "metadata": {}
        }
      ]
    },
    {
      "cell_type": "markdown",
      "source": [
        "# **Conclusion**"
      ],
      "metadata": {
        "id": "KQKmOaWnydlc"
      }
    },
    {
      "cell_type": "markdown",
      "source": [
        "The image classification model has been created with two different models, which are ResNet50 and EfficientNetB0. These two models result a good accuracy and loss for each training and testing.\n",
        "\n",
        "1.   For ResNet50, the result is higher than EfficientNetB0 but it has quite large number of parameters (25 millions). So if the case needs high accuracy, we can leverage the model such as ResNet50 or even models with large number of parameters.\n",
        "2.   For EfficientNetB0, the result is still high, but slightly lower than ResNet50. It makes sense since the total parameters of this model is just 4 millions. If the case needs the model to be implemented in lightweight devices, so this model can be a solution since its accuracy and loss is just slightly lower than the ResNet50.\n",
        "\n"
      ],
      "metadata": {
        "id": "WBGaj4d_yh5_"
      }
    }
  ]
}